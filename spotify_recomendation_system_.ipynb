{
  "nbformat": 4,
  "nbformat_minor": 0,
  "metadata": {
    "colab": {
      "provenance": [],
      "mount_file_id": "1jFvvOwaWUaEBP1JEBr9w628-vhBdks1A",
      "authorship_tag": "ABX9TyOFUOdoAKg9UQynK+e0mj+Y",
      "include_colab_link": true
    },
    "kernelspec": {
      "name": "python3",
      "display_name": "Python 3"
    },
    "language_info": {
      "name": "python"
    }
  },
  "cells": [
    {
      "cell_type": "markdown",
      "metadata": {
        "id": "view-in-github",
        "colab_type": "text"
      },
      "source": [
        "<a href=\"https://colab.research.google.com/github/KHANmdAFFAN/Data_science/blob/main/spotify_recomendation_system_.ipynb\" target=\"_parent\"><img src=\"https://colab.research.google.com/assets/colab-badge.svg\" alt=\"Open In Colab\"/></a>"
      ]
    },
    {
      "cell_type": "markdown",
      "source": [
        "# Project Description "
      ],
      "metadata": {
        "id": "ZGsP9y7jqsdY"
      }
    },
    {
      "cell_type": "markdown",
      "source": [
        "##Spotify Playlist Recommendation System"
      ],
      "metadata": {
        "id": "5bHVH49qq8L4"
      }
    },
    {
      "cell_type": "markdown",
      "source": [
        "### Description of the Project\n",
        "The goal of the challenge is to develop a system for the task of automatic playlist continuation. given a set of playlist features, participants' systems shall generate a list of recommended tracks that can be added to that playlist, thereby \"continuing\" the playlist ```\n"
      ],
      "metadata": {
        "id": "PXShkuwYreao"
      }
    },
    {
      "cell_type": "markdown",
      "source": [
        "### Overall flow of the project\n",
        "the data is structured in arrays that typically contain 1,000 playlists. each playlist is a dictionary that contains the following fields:[]\n",
        "\n",
        "\n"
      ],
      "metadata": {
        "id": "71qF9mjcrra5"
      }
    },
    {
      "cell_type": "markdown",
      "source": [
        " * pid - integer - playlist id - the mpd id of this playlist. this is an integer between 0 and 999,999.\n",
        " \n",
        " * name - string - the name of the playlist\n",
        " \n",
        " * description - optional string - if present, the description given to the playlist. note that user-provided playlist descriptions are a relatively new feature of spotify, so most playlists do not have descriptions.\n",
        " \n",
        " * modified_at - seconds - timestamp (in seconds since the epoch) when this playlist was last updated. times are rounded to midnight gmt of the date when the playlist was last updated.\n",
        " \n",
        " * num_artists - the total number of unique artists for the tracks in the playlist.\n",
        " \n",
        " * num_albums - the number of unique albums for the tracks in the playlist \n",
        " \n",
        " *num_tracks - the number of tracks in the playlist\n",
        " \n",
        " * num_followers - the number of followers this playlist had at the time the mpd was created. (note that the follower count does not including the playlist creator) \n",
        " \n",
        " *num_edits - the number of separate editing sessions.Tracks added in a two hour window are considered to be added in a single editing session.\n",
        "\n",
        " *duration_ms - the total duration of all the tracks in the playlist (in milliseconds) \n",
        " \n",
        " *collaborative - boolean - if true, the playlist is a collaborative playlist. multiple users may contribute tracks to a collaborative playlist.\n",
        " \n",
        " * tracks - an array of information about each track in the playlist. each element in the array is a dictionary with the following fields:"
      ],
      "metadata": {
        "id": "Xm-PyDeRtRlU"
      }
    },
    {
      "cell_type": "code",
      "execution_count": null,
      "metadata": {
        "id": "2VO9p-x_pzmC"
      },
      "outputs": [],
      "source": [
        "#* track_name - the name of the track \n",
        "#* track_uri - the spotify uri of the track\n",
        "#* album_name - the name of the track's album \n",
        "#* album_uri - the spotify uri of the album \n",
        "#* artist_name - the name of the track's primary artist \n",
        "#* artist_uri - the spotify uri of track's primary artist \n",
        "#* duration_ms - the duration of the track in milliseconds \n",
        "#* pos - the position of the track in the playlist (zero-based)"
      ]
    },
    {
      "cell_type": "code",
      "source": [
        "import pandas as pd \n",
        "import numpy as np\n",
        "import json as json\n",
        "import re\n"
      ],
      "metadata": {
        "id": "0zfPZ2A8vIp7"
      },
      "execution_count": 18,
      "outputs": []
    },
    {
      "cell_type": "markdown",
      "source": [
        "## **Data Prepration Phase**\n",
        "\n",
        "In this phase we needed to flatten our data"
      ],
      "metadata": {
        "id": "uEDzunEzzGGU"
      }
    },
    {
      "cell_type": "code",
      "source": [
        "from google.colab import drive\n",
        "drive.mount(\"/content/drive\")"
      ],
      "metadata": {
        "colab": {
          "base_uri": "https://localhost:8080/"
        },
        "id": "k5H3_tGsvocD",
        "outputId": "b61bc3b3-d8cd-41c0-9424-c7868f448090"
      },
      "execution_count": 2,
      "outputs": [
        {
          "output_type": "stream",
          "name": "stdout",
          "text": [
            "Mounted at /content/drive\n"
          ]
        }
      ]
    },
    {
      "cell_type": "code",
      "source": [
        "data1 = json.load(open('/content/drive/MyDrive/Spotify_Playlist_Datasets.rar (Unzipped Files)/mpd.slice.0-999.json'))\n",
        "data2 = json.load(open('/content/drive/MyDrive/Spotify_Playlist_Datasets.rar (Unzipped Files)/mpd.slice.1000-1999.json'))\n",
        "data3 = json.load(open('/content/drive/MyDrive/Spotify_Playlist_Datasets.rar (Unzipped Files)/mpd.slice.2000-2999.json'))\n",
        "data4 = json.load(open('/content/drive/MyDrive/Spotify_Playlist_Datasets.rar (Unzipped Files)/mpd.slice.3000-3999.json'))\n",
        "\n",
        "df1= pd.DataFrame(data1['playlists'])\n",
        "df2= pd.DataFrame(data2['playlists'])\n",
        "df3= pd.DataFrame(data3['playlists'])\n",
        "df4= pd.DataFrame(data4['playlists'])\n",
        "\n",
        "df = pd.concat([df1,df2,df3,df4])\n",
        "\n",
        "df= df.explode('tracks')\n",
        "df= pd.concat([df.drop(['tracks'], axis=1), df['tracks'].apply(pd.Series)],axis=1)\n",
        "\n",
        "# renaming the columns with the same name \n",
        "df.columns=['name', 'collaborative', 'pid', 'modified_at', 'num_tracks', 'num_albums', 'num_followers', 'num_edits', 'playlist_duration_ms', 'num_artists', 'description', 'pos', 'artist_name', 'track_uri', 'artist_uri', 'track_name', 'album_uri', 'track_duration_ms', 'album_name']"
      ],
      "metadata": {
        "id": "QE5rh2-SvqJz"
      },
      "execution_count": 14,
      "outputs": []
    },
    {
      "cell_type": "markdown",
      "source": [
        "And we have data ready to manipulate it :\n"
      ],
      "metadata": {
        "id": "qsYRy-aWzbfE"
      }
    },
    {
      "cell_type": "markdown",
      "source": [
        "## the current features are not enough to analyze the tracks so it's needed to extract more features from tracks uri\n",
        "\n",
        "### from above there are some features have uri in names , after searching i found this:\n",
        "\n",
        "A spotify uri (uniform resource indicator) is a link that you can find in the share menu of any track, album, or artist profile on spotify.\n",
        "\n",
        "When you click a link that consists of a spotify uri (rather than an http address), you're taken directly to the spotify application, without having to go through the web page first.\n"
      ],
      "metadata": {
        "id": "Wdv3nWAJzvDH"
      }
    },
    {
      "cell_type": "markdown",
      "source": [
        "## it could be used and extract more data by api spotipy ,but i already have the name of the track , artist and album in the dataset so i'm gonna take a copy of dataframe and remove the uri features before making any process"
      ],
      "metadata": {
        "id": "4NXVwWDf0MTf"
      }
    },
    {
      "cell_type": "code",
      "source": [
        "#extract uri \n",
        "df['track_uri']= df[\"track_uri\"].apply(lambda x: re.findall(r'\\w+$', str(x))[0])"
      ],
      "metadata": {
        "id": "rqehJq1Ixi2T"
      },
      "execution_count": 19,
      "outputs": []
    },
    {
      "cell_type": "code",
      "source": [],
      "metadata": {
        "id": "jn7NjiLv005I"
      },
      "execution_count": null,
      "outputs": []
    }
  ]
}